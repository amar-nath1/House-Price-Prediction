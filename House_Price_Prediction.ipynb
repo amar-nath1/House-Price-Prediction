{
  "nbformat": 4,
  "nbformat_minor": 0,
  "metadata": {
    "colab": {
      "name": "House Price Prediction",
      "provenance": []
    },
    "kernelspec": {
      "name": "python3",
      "display_name": "Python 3"
    }
  },
  "cells": [
    {
      "cell_type": "code",
      "metadata": {
        "id": "ln0F3vK0cz9K"
      },
      "source": [
        "import pandas as pd\r\n",
        "import numpy as np\r\n",
        "import matplotlib.pyplot as plt\r\n",
        "%matplotlib inline\r\n"
      ],
      "execution_count": 2,
      "outputs": []
    },
    {
      "cell_type": "code",
      "metadata": {
        "id": "vLTwF1R7dEqO"
      },
      "source": [
        "df=pd.read_csv('USA_Housing.csv')\r\n"
      ],
      "execution_count": 7,
      "outputs": []
    },
    {
      "cell_type": "code",
      "metadata": {
        "colab": {
          "base_uri": "https://localhost:8080/",
          "height": 310
        },
        "id": "vYjxZLwPdWn3",
        "outputId": "48a21823-e064-4cfe-bee4-63d576124cb5"
      },
      "source": [
        "df.head()"
      ],
      "execution_count": 8,
      "outputs": [
        {
          "output_type": "execute_result",
          "data": {
            "text/html": [
              "<div>\n",
              "<style scoped>\n",
              "    .dataframe tbody tr th:only-of-type {\n",
              "        vertical-align: middle;\n",
              "    }\n",
              "\n",
              "    .dataframe tbody tr th {\n",
              "        vertical-align: top;\n",
              "    }\n",
              "\n",
              "    .dataframe thead th {\n",
              "        text-align: right;\n",
              "    }\n",
              "</style>\n",
              "<table border=\"1\" class=\"dataframe\">\n",
              "  <thead>\n",
              "    <tr style=\"text-align: right;\">\n",
              "      <th></th>\n",
              "      <th>Avg. Area Income</th>\n",
              "      <th>Avg. Area House Age</th>\n",
              "      <th>Avg. Area Number of Rooms</th>\n",
              "      <th>Avg. Area Number of Bedrooms</th>\n",
              "      <th>Area Population</th>\n",
              "      <th>Price</th>\n",
              "      <th>Address</th>\n",
              "    </tr>\n",
              "  </thead>\n",
              "  <tbody>\n",
              "    <tr>\n",
              "      <th>0</th>\n",
              "      <td>79545.458574</td>\n",
              "      <td>5.682861</td>\n",
              "      <td>7.009188</td>\n",
              "      <td>4.09</td>\n",
              "      <td>23086.800503</td>\n",
              "      <td>1.059034e+06</td>\n",
              "      <td>208 Michael Ferry Apt. 674\\nLaurabury, NE 3701...</td>\n",
              "    </tr>\n",
              "    <tr>\n",
              "      <th>1</th>\n",
              "      <td>79248.642455</td>\n",
              "      <td>6.002900</td>\n",
              "      <td>6.730821</td>\n",
              "      <td>3.09</td>\n",
              "      <td>40173.072174</td>\n",
              "      <td>1.505891e+06</td>\n",
              "      <td>188 Johnson Views Suite 079\\nLake Kathleen, CA...</td>\n",
              "    </tr>\n",
              "    <tr>\n",
              "      <th>2</th>\n",
              "      <td>61287.067179</td>\n",
              "      <td>5.865890</td>\n",
              "      <td>8.512727</td>\n",
              "      <td>5.13</td>\n",
              "      <td>36882.159400</td>\n",
              "      <td>1.058988e+06</td>\n",
              "      <td>9127 Elizabeth Stravenue\\nDanieltown, WI 06482...</td>\n",
              "    </tr>\n",
              "    <tr>\n",
              "      <th>3</th>\n",
              "      <td>63345.240046</td>\n",
              "      <td>7.188236</td>\n",
              "      <td>5.586729</td>\n",
              "      <td>3.26</td>\n",
              "      <td>34310.242831</td>\n",
              "      <td>1.260617e+06</td>\n",
              "      <td>USS Barnett\\nFPO AP 44820</td>\n",
              "    </tr>\n",
              "    <tr>\n",
              "      <th>4</th>\n",
              "      <td>59982.197226</td>\n",
              "      <td>5.040555</td>\n",
              "      <td>7.839388</td>\n",
              "      <td>4.23</td>\n",
              "      <td>26354.109472</td>\n",
              "      <td>6.309435e+05</td>\n",
              "      <td>USNS Raymond\\nFPO AE 09386</td>\n",
              "    </tr>\n",
              "  </tbody>\n",
              "</table>\n",
              "</div>"
            ],
            "text/plain": [
              "   Avg. Area Income  ...                                            Address\n",
              "0      79545.458574  ...  208 Michael Ferry Apt. 674\\nLaurabury, NE 3701...\n",
              "1      79248.642455  ...  188 Johnson Views Suite 079\\nLake Kathleen, CA...\n",
              "2      61287.067179  ...  9127 Elizabeth Stravenue\\nDanieltown, WI 06482...\n",
              "3      63345.240046  ...                          USS Barnett\\nFPO AP 44820\n",
              "4      59982.197226  ...                         USNS Raymond\\nFPO AE 09386\n",
              "\n",
              "[5 rows x 7 columns]"
            ]
          },
          "metadata": {
            "tags": []
          },
          "execution_count": 8
        }
      ]
    },
    {
      "cell_type": "code",
      "metadata": {
        "id": "Dwc4I5Dvdb6t"
      },
      "source": [
        "df=df.drop(['Address'],axis=1)"
      ],
      "execution_count": 9,
      "outputs": []
    },
    {
      "cell_type": "code",
      "metadata": {
        "colab": {
          "base_uri": "https://localhost:8080/"
        },
        "id": "9hUkUT96dmw0",
        "outputId": "a84711ec-74a9-46cb-91e7-d282045c07d8"
      },
      "source": [
        "df.isnull().sum()"
      ],
      "execution_count": 10,
      "outputs": [
        {
          "output_type": "execute_result",
          "data": {
            "text/plain": [
              "Avg. Area Income                0\n",
              "Avg. Area House Age             0\n",
              "Avg. Area Number of Rooms       0\n",
              "Avg. Area Number of Bedrooms    0\n",
              "Area Population                 0\n",
              "Price                           0\n",
              "dtype: int64"
            ]
          },
          "metadata": {
            "tags": []
          },
          "execution_count": 10
        }
      ]
    },
    {
      "cell_type": "code",
      "metadata": {
        "id": "keVWVuOPd6sl"
      },
      "source": [
        "#we dont have any null values"
      ],
      "execution_count": null,
      "outputs": []
    },
    {
      "cell_type": "code",
      "metadata": {
        "colab": {
          "base_uri": "https://localhost:8080/"
        },
        "id": "qAAp1LL4eAJt",
        "outputId": "e9d1e226-a213-483f-af08-ed9d8efa23c5"
      },
      "source": [
        "df.info()"
      ],
      "execution_count": 12,
      "outputs": [
        {
          "output_type": "stream",
          "text": [
            "<class 'pandas.core.frame.DataFrame'>\n",
            "RangeIndex: 5000 entries, 0 to 4999\n",
            "Data columns (total 6 columns):\n",
            " #   Column                        Non-Null Count  Dtype  \n",
            "---  ------                        --------------  -----  \n",
            " 0   Avg. Area Income              5000 non-null   float64\n",
            " 1   Avg. Area House Age           5000 non-null   float64\n",
            " 2   Avg. Area Number of Rooms     5000 non-null   float64\n",
            " 3   Avg. Area Number of Bedrooms  5000 non-null   float64\n",
            " 4   Area Population               5000 non-null   float64\n",
            " 5   Price                         5000 non-null   float64\n",
            "dtypes: float64(6)\n",
            "memory usage: 234.5 KB\n"
          ],
          "name": "stdout"
        }
      ]
    },
    {
      "cell_type": "code",
      "metadata": {
        "id": "7NH6McafeBxK"
      },
      "source": [
        "# we have all the value is numeric format."
      ],
      "execution_count": null,
      "outputs": []
    },
    {
      "cell_type": "code",
      "metadata": {
        "id": "1TCLO6hEeIWG"
      },
      "source": [
        "#visualizaiton"
      ],
      "execution_count": 13,
      "outputs": []
    },
    {
      "cell_type": "code",
      "metadata": {
        "colab": {
          "base_uri": "https://localhost:8080/",
          "height": 365
        },
        "id": "QALP8IabeMox",
        "outputId": "5e69f7ad-e3f0-4f0c-d4d2-b137f3464e0f"
      },
      "source": [
        "import seaborn as sns\r\n",
        "sns.distplot(df.Price)"
      ],
      "execution_count": 14,
      "outputs": [
        {
          "output_type": "stream",
          "text": [
            "/usr/local/lib/python3.6/dist-packages/seaborn/distributions.py:2557: FutureWarning: `distplot` is a deprecated function and will be removed in a future version. Please adapt your code to use either `displot` (a figure-level function with similar flexibility) or `histplot` (an axes-level function for histograms).\n",
            "  warnings.warn(msg, FutureWarning)\n"
          ],
          "name": "stderr"
        },
        {
          "output_type": "execute_result",
          "data": {
            "text/plain": [
              "<matplotlib.axes._subplots.AxesSubplot at 0x7f86ed168ba8>"
            ]
          },
          "metadata": {
            "tags": []
          },
          "execution_count": 14
        },
        {
          "output_type": "display_data",
          "data": {
            "image/png": "[encoded data removed]",
            "text/plain": [
              "<Figure size 432x288 with 1 Axes>"
            ]
          },
          "metadata": {
            "tags": [],
            "needs_background": "light"
          }
        }
      ]
    },
    {
      "cell_type": "code",
      "metadata": {
        "colab": {
          "base_uri": "https://localhost:8080/",
          "height": 434
        },
        "id": "ihT7O8yFecub",
        "outputId": "7ef0023a-7415-4993-bfac-65d324dea733"
      },
      "source": [
        "sns.heatmap(df.corr(),annot=True)"
      ],
      "execution_count": 15,
      "outputs": [
        {
          "output_type": "execute_result",
          "data": {
            "text/plain": [
              "<matplotlib.axes._subplots.AxesSubplot at 0x7f86e9daeef0>"
            ]
          },
          "metadata": {
            "tags": []
          },
          "execution_count": 15
        },
        {
          "output_type": "display_data",
          "data": {
            "image/png": "[encoded data removed]",
            "text/plain": [
              "<Figure size 432x288 with 2 Axes>"
            ]
          },
          "metadata": {
            "tags": [],
            "needs_background": "light"
          }
        }
      ]
    },
    {
      "cell_type": "code",
      "metadata": {
        "id": "PsHBPYbSezGb"
      },
      "source": [
        "#we have less correlation between features"
      ],
      "execution_count": 16,
      "outputs": []
    },
    {
      "cell_type": "code",
      "metadata": {
        "id": "UMWw4-nCf-oi"
      },
      "source": [
        "#Prepare our dataset"
      ],
      "execution_count": null,
      "outputs": []
    },
    {
      "cell_type": "code",
      "metadata": {
        "id": "UWEv2Ufle5vA"
      },
      "source": [
        "X=df.drop(['Price'],axis=1)"
      ],
      "execution_count": 17,
      "outputs": []
    },
    {
      "cell_type": "code",
      "metadata": {
        "id": "O0hLMZXufSxW"
      },
      "source": [
        "y=df.Price"
      ],
      "execution_count": 18,
      "outputs": []
    },
    {
      "cell_type": "code",
      "metadata": {
        "id": "U9oVCyTifVy6"
      },
      "source": [
        "#Lets Split our dataset into train and test after all we have to teach and assess our Pupil(Model)"
      ],
      "execution_count": 19,
      "outputs": []
    },
    {
      "cell_type": "code",
      "metadata": {
        "id": "Ezp9HyFkf0up"
      },
      "source": [
        "from sklearn.model_selection import train_test_split\r\n",
        "X_train, X_test, y_train, y_test=train_test_split(X,y,test_size=0.3, random_state=4,)"
      ],
      "execution_count": 20,
      "outputs": []
    },
    {
      "cell_type": "code",
      "metadata": {
        "id": "gH7k09twgd_W"
      },
      "source": [
        "#Let's Rescale our Dataset because values are imbalanced"
      ],
      "execution_count": 21,
      "outputs": []
    },
    {
      "cell_type": "code",
      "metadata": {
        "id": "8FySFSOkmMqb"
      },
      "source": [
        "from sklearn.preprocessing import StandardScaler\r\n",
        "from sklearn.pipeline import Pipeline"
      ],
      "execution_count": 22,
      "outputs": []
    },
    {
      "cell_type": "code",
      "metadata": {
        "id": "kgkPrpgjn2aP"
      },
      "source": [
        "pipeline=Pipeline([('std_scalar', StandardScaler())])\r\n",
        "X_train=pipeline.fit_transform(X_train)\r\n",
        "X_test=pipeline.fit_transform(X_test)"
      ],
      "execution_count": 23,
      "outputs": []
    },
    {
      "cell_type": "code",
      "metadata": {
        "id": "ZFK4AFKDogBA"
      },
      "source": [
        "#Let's Build our model. Till now Our dataset is refined to be trained."
      ],
      "execution_count": 24,
      "outputs": []
    },
    {
      "cell_type": "code",
      "metadata": {
        "colab": {
          "base_uri": "https://localhost:8080/"
        },
        "id": "WG3rBHJYosn2",
        "outputId": "c24354a9-f779-45dd-e8d1-aa8d7fcd3ee3"
      },
      "source": [
        "#Logistic Regression\r\n",
        "from sklearn.linear_model import LinearRegression\r\n",
        "lin_reg= LinearRegression(normalize=True)\r\n",
        "lin_reg.fit(X_train,y_train)"
      ],
      "execution_count": 25,
      "outputs": [
        {
          "output_type": "execute_result",
          "data": {
            "text/plain": [
              "LinearRegression(copy_X=True, fit_intercept=True, n_jobs=None, normalize=True)"
            ]
          },
          "metadata": {
            "tags": []
          },
          "execution_count": 25
        }
      ]
    },
    {
      "cell_type": "code",
      "metadata": {
        "colab": {
          "base_uri": "https://localhost:8080/",
          "height": 225
        },
        "id": "MKXCUhwOqBNy",
        "outputId": "6758a8f8-8438-4f9b-af1b-3acc4a9e9037"
      },
      "source": [
        "print (lin_reg.intercept_)\r\n",
        "coeff_df = pd.DataFrame(lin_reg.coef_, X.columns, columns=['Coefficient']) #creating a dataframe for coeficients.\r\n",
        "coeff_df"
      ],
      "execution_count": 26,
      "outputs": [
        {
          "output_type": "stream",
          "text": [
            "1230782.0625244325\n"
          ],
          "name": "stdout"
        },
        {
          "output_type": "execute_result",
          "data": {
            "text/html": [
              "<div>\n",
              "<style scoped>\n",
              "    .dataframe tbody tr th:only-of-type {\n",
              "        vertical-align: middle;\n",
              "    }\n",
              "\n",
              "    .dataframe tbody tr th {\n",
              "        vertical-align: top;\n",
              "    }\n",
              "\n",
              "    .dataframe thead th {\n",
              "        text-align: right;\n",
              "    }\n",
              "</style>\n",
              "<table border=\"1\" class=\"dataframe\">\n",
              "  <thead>\n",
              "    <tr style=\"text-align: right;\">\n",
              "      <th></th>\n",
              "      <th>Coefficient</th>\n",
              "    </tr>\n",
              "  </thead>\n",
              "  <tbody>\n",
              "    <tr>\n",
              "      <th>Avg. Area Income</th>\n",
              "      <td>230469.998671</td>\n",
              "    </tr>\n",
              "    <tr>\n",
              "      <th>Avg. Area House Age</th>\n",
              "      <td>165223.037971</td>\n",
              "    </tr>\n",
              "    <tr>\n",
              "      <th>Avg. Area Number of Rooms</th>\n",
              "      <td>118688.566014</td>\n",
              "    </tr>\n",
              "    <tr>\n",
              "      <th>Avg. Area Number of Bedrooms</th>\n",
              "      <td>2704.548885</td>\n",
              "    </tr>\n",
              "    <tr>\n",
              "      <th>Area Population</th>\n",
              "      <td>152074.758318</td>\n",
              "    </tr>\n",
              "  </tbody>\n",
              "</table>\n",
              "</div>"
            ],
            "text/plain": [
              "                                Coefficient\n",
              "Avg. Area Income              230469.998671\n",
              "Avg. Area House Age           165223.037971\n",
              "Avg. Area Number of Rooms     118688.566014\n",
              "Avg. Area Number of Bedrooms    2704.548885\n",
              "Area Population               152074.758318"
            ]
          },
          "metadata": {
            "tags": []
          },
          "execution_count": 26
        }
      ]
    },
    {
      "cell_type": "code",
      "metadata": {
        "id": "hUjbbxKzqMLS"
      },
      "source": [
        "#Let' test Our Model by predicting from our test data"
      ],
      "execution_count": 27,
      "outputs": []
    },
    {
      "cell_type": "code",
      "metadata": {
        "id": "mkY52GQ-q2h1"
      },
      "source": [
        "pred=lin_reg.predict(X_test)"
      ],
      "execution_count": 28,
      "outputs": []
    },
    {
      "cell_type": "code",
      "metadata": {
        "colab": {
          "base_uri": "https://localhost:8080/",
          "height": 307
        },
        "id": "AJfBak_2rPxX",
        "outputId": "7180cdcc-2ee9-4591-a138-4edf6990141f"
      },
      "source": [
        "plt.scatter(y_test,pred)"
      ],
      "execution_count": 29,
      "outputs": [
        {
          "output_type": "execute_result",
          "data": {
            "text/plain": [
              "<matplotlib.collections.PathCollection at 0x7f86dd67a320>"
            ]
          },
          "metadata": {
            "tags": []
          },
          "execution_count": 29
        },
        {
          "output_type": "display_data",
          "data": {
            "image/png": "[encoded data removed]",
            "text/plain": [
              "<Figure size 432x288 with 1 Axes>"
            ]
          },
          "metadata": {
            "tags": [],
            "needs_background": "light"
          }
        }
      ]
    },
    {
      "cell_type": "code",
      "metadata": {
        "colab": {
          "base_uri": "https://localhost:8080/",
          "height": 365
        },
        "id": "UW22RIycrkO3",
        "outputId": "07d5b223-2335-43c3-85d0-b0cdc44c3921"
      },
      "source": [
        "sns.distplot((y_test-pred))"
      ],
      "execution_count": 30,
      "outputs": [
        {
          "output_type": "stream",
          "text": [
            "/usr/local/lib/python3.6/dist-packages/seaborn/distributions.py:2557: FutureWarning: `distplot` is a deprecated function and will be removed in a future version. Please adapt your code to use either `displot` (a figure-level function with similar flexibility) or `histplot` (an axes-level function for histograms).\n",
            "  warnings.warn(msg, FutureWarning)\n"
          ],
          "name": "stderr"
        },
        {
          "output_type": "execute_result",
          "data": {
            "text/plain": [
              "<matplotlib.axes._subplots.AxesSubplot at 0x7f86dd64f860>"
            ]
          },
          "metadata": {
            "tags": []
          },
          "execution_count": 30
        },
        {
          "output_type": "display_data",
          "data": {
            "image/png": "[encoded data removed]",
            "text/plain": [
              "<Figure size 432x288 with 1 Axes>"
            ]
          },
          "metadata": {
            "tags": [],
            "needs_background": "light"
          }
        }
      ]
    },
    {
      "cell_type": "code",
      "metadata": {
        "id": "Xjbcy3brrvsp"
      },
      "source": [
        "#Regression Evalution Metrics"
      ],
      "execution_count": 31,
      "outputs": []
    },
    {
      "cell_type": "code",
      "metadata": {
        "id": "YPworNH9slSq"
      },
      "source": [
        "from sklearn import metrics\r\n",
        "from sklearn.model_selection import cross_val_score"
      ],
      "execution_count": 32,
      "outputs": []
    },
    {
      "cell_type": "code",
      "metadata": {
        "id": "KYJzLJvMtHLc"
      },
      "source": [
        "def eval(y_test, pred):\r\n",
        "  MAE=metrics.mean_absolute_error(y_test,pred)\r\n",
        "  MSE=metrics.mean_squared_error(y_test,pred)\r\n",
        "  RMSE=np.sqrt(metrics.mean_squared_error(y_test,pred))\r\n",
        "  R2score= metrics.r2_score(y_test,pred)\r\n",
        "  return MAE, MSE,RMSE,R2score"
      ],
      "execution_count": 38,
      "outputs": []
    },
    {
      "cell_type": "code",
      "metadata": {
        "id": "v_BKRlyGwoO2"
      },
      "source": [
        "def croval(model):\r\n",
        "  cro_val=cross_val_score(model,X,y,cv=5)\r\n",
        "  return cro_val.mean()\r\n"
      ],
      "execution_count": 42,
      "outputs": []
    },
    {
      "cell_type": "code",
      "metadata": {
        "colab": {
          "base_uri": "https://localhost:8080/",
          "height": 81
        },
        "id": "U1foYXBPxDDh",
        "outputId": "da850cd2-3d7f-4262-b69c-8864c604087b"
      },
      "source": [
        "results_df = pd.DataFrame(data=[[\"Linear Regression\", *eval(y_test,pred) , croval(LinearRegression())]], \r\n",
        "                          columns=['Model', 'MAE', 'MSE', 'RMSE', 'R2 Square', \"Cross Validation\"])\r\n",
        "results_df"
      ],
      "execution_count": 69,
      "outputs": [
        {
          "output_type": "execute_result",
          "data": {
            "text/html": [
              "<div>\n",
              "<style scoped>\n",
              "    .dataframe tbody tr th:only-of-type {\n",
              "        vertical-align: middle;\n",
              "    }\n",
              "\n",
              "    .dataframe tbody tr th {\n",
              "        vertical-align: top;\n",
              "    }\n",
              "\n",
              "    .dataframe thead th {\n",
              "        text-align: right;\n",
              "    }\n",
              "</style>\n",
              "<table border=\"1\" class=\"dataframe\">\n",
              "  <thead>\n",
              "    <tr style=\"text-align: right;\">\n",
              "      <th></th>\n",
              "      <th>Model</th>\n",
              "      <th>MAE</th>\n",
              "      <th>MSE</th>\n",
              "      <th>RMSE</th>\n",
              "      <th>R2 Square</th>\n",
              "      <th>Cross Validation</th>\n",
              "    </tr>\n",
              "  </thead>\n",
              "  <tbody>\n",
              "    <tr>\n",
              "      <th>0</th>\n",
              "      <td>Linear Regression</td>\n",
              "      <td>80673.257669</td>\n",
              "      <td>1.005189e+10</td>\n",
              "      <td>100259.095842</td>\n",
              "      <td>0.918724</td>\n",
              "      <td>0.917559</td>\n",
              "    </tr>\n",
              "  </tbody>\n",
              "</table>\n",
              "</div>"
            ],
            "text/plain": [
              "               Model           MAE  ...  R2 Square  Cross Validation\n",
              "0  Linear Regression  80673.257669  ...   0.918724          0.917559\n",
              "\n",
              "[1 rows x 6 columns]"
            ]
          },
          "metadata": {
            "tags": []
          },
          "execution_count": 69
        }
      ]
    },
    {
      "cell_type": "code",
      "metadata": {
        "id": "6Q6ZQ55puGAo"
      },
      "source": [
        "#Robust Regression"
      ],
      "execution_count": 34,
      "outputs": []
    },
    {
      "cell_type": "code",
      "metadata": {
        "colab": {
          "base_uri": "https://localhost:8080/"
        },
        "id": "-_04LLlhvBUX",
        "outputId": "1285347d-983e-4473-8843-50c55215ebe1"
      },
      "source": [
        "from sklearn.linear_model import RANSACRegressor\r\n",
        "ransacm=RANSACRegressor(base_estimator=LinearRegression(),max_trials=100)\r\n",
        "ransacm.fit(X_train,y_train)\r\n"
      ],
      "execution_count": 50,
      "outputs": [
        {
          "output_type": "execute_result",
          "data": {
            "text/plain": [
              "RANSACRegressor(base_estimator=LinearRegression(copy_X=True, fit_intercept=True,\n",
              "                                                n_jobs=None, normalize=False),\n",
              "                is_data_valid=None, is_model_valid=None, loss='absolute_loss',\n",
              "                max_skips=inf, max_trials=100, min_samples=None,\n",
              "                random_state=None, residual_threshold=None, stop_n_inliers=inf,\n",
              "                stop_probability=0.99, stop_score=inf)"
            ]
          },
          "metadata": {
            "tags": []
          },
          "execution_count": 50
        }
      ]
    },
    {
      "cell_type": "code",
      "metadata": {
        "id": "psUuX-8m2maS"
      },
      "source": [
        "rob_pred=ransacm.predict(X_test)"
      ],
      "execution_count": 51,
      "outputs": []
    },
    {
      "cell_type": "code",
      "metadata": {
        "colab": {
          "base_uri": "https://localhost:8080/",
          "height": 81
        },
        "id": "PQYxLxXR1cXU",
        "outputId": "a5b4971e-ae5e-4de9-d92e-0db6519c045e"
      },
      "source": [
        "result_rob=pd.DataFrame(data=[[\"Robust Regression\", *eval(y_test,rob_pred),croval(RANSACRegressor())]],\r\n",
        "                        columns=['Model', 'MAE', 'MSE', 'RMSE', 'R2 Square', \"Cross Validation\"])\r\n",
        "result_rob"
      ],
      "execution_count": 70,
      "outputs": [
        {
          "output_type": "execute_result",
          "data": {
            "text/html": [
              "<div>\n",
              "<style scoped>\n",
              "    .dataframe tbody tr th:only-of-type {\n",
              "        vertical-align: middle;\n",
              "    }\n",
              "\n",
              "    .dataframe tbody tr th {\n",
              "        vertical-align: top;\n",
              "    }\n",
              "\n",
              "    .dataframe thead th {\n",
              "        text-align: right;\n",
              "    }\n",
              "</style>\n",
              "<table border=\"1\" class=\"dataframe\">\n",
              "  <thead>\n",
              "    <tr style=\"text-align: right;\">\n",
              "      <th></th>\n",
              "      <th>Model</th>\n",
              "      <th>MAE</th>\n",
              "      <th>MSE</th>\n",
              "      <th>RMSE</th>\n",
              "      <th>R2 Square</th>\n",
              "      <th>Cross Validation</th>\n",
              "    </tr>\n",
              "  </thead>\n",
              "  <tbody>\n",
              "    <tr>\n",
              "      <th>0</th>\n",
              "      <td>Robust Regression</td>\n",
              "      <td>81727.457894</td>\n",
              "      <td>1.022712e+10</td>\n",
              "      <td>101129.225918</td>\n",
              "      <td>0.917307</td>\n",
              "      <td>0.910715</td>\n",
              "    </tr>\n",
              "  </tbody>\n",
              "</table>\n",
              "</div>"
            ],
            "text/plain": [
              "               Model           MAE  ...  R2 Square  Cross Validation\n",
              "0  Robust Regression  81727.457894  ...   0.917307          0.910715\n",
              "\n",
              "[1 rows x 6 columns]"
            ]
          },
          "metadata": {
            "tags": []
          },
          "execution_count": 70
        }
      ]
    },
    {
      "cell_type": "code",
      "metadata": {
        "id": "UL9S_yTH3FAe"
      },
      "source": [
        "results_df=results_df.append(result_rob,ignore_index=True)"
      ],
      "execution_count": 71,
      "outputs": []
    },
    {
      "cell_type": "code",
      "metadata": {
        "colab": {
          "base_uri": "https://localhost:8080/",
          "height": 112
        },
        "id": "r-9uwwks7pyc",
        "outputId": "eedb7656-8605-4975-fba6-20fdecda245f"
      },
      "source": [
        "results_df"
      ],
      "execution_count": 72,
      "outputs": [
        {
          "output_type": "execute_result",
          "data": {
            "text/html": [
              "<div>\n",
              "<style scoped>\n",
              "    .dataframe tbody tr th:only-of-type {\n",
              "        vertical-align: middle;\n",
              "    }\n",
              "\n",
              "    .dataframe tbody tr th {\n",
              "        vertical-align: top;\n",
              "    }\n",
              "\n",
              "    .dataframe thead th {\n",
              "        text-align: right;\n",
              "    }\n",
              "</style>\n",
              "<table border=\"1\" class=\"dataframe\">\n",
              "  <thead>\n",
              "    <tr style=\"text-align: right;\">\n",
              "      <th></th>\n",
              "      <th>Model</th>\n",
              "      <th>MAE</th>\n",
              "      <th>MSE</th>\n",
              "      <th>RMSE</th>\n",
              "      <th>R2 Square</th>\n",
              "      <th>Cross Validation</th>\n",
              "    </tr>\n",
              "  </thead>\n",
              "  <tbody>\n",
              "    <tr>\n",
              "      <th>0</th>\n",
              "      <td>Linear Regression</td>\n",
              "      <td>80673.257669</td>\n",
              "      <td>1.005189e+10</td>\n",
              "      <td>100259.095842</td>\n",
              "      <td>0.918724</td>\n",
              "      <td>0.917559</td>\n",
              "    </tr>\n",
              "    <tr>\n",
              "      <th>1</th>\n",
              "      <td>Robust Regression</td>\n",
              "      <td>81727.457894</td>\n",
              "      <td>1.022712e+10</td>\n",
              "      <td>101129.225918</td>\n",
              "      <td>0.917307</td>\n",
              "      <td>0.910715</td>\n",
              "    </tr>\n",
              "  </tbody>\n",
              "</table>\n",
              "</div>"
            ],
            "text/plain": [
              "               Model           MAE  ...  R2 Square  Cross Validation\n",
              "0  Linear Regression  80673.257669  ...   0.918724          0.917559\n",
              "1  Robust Regression  81727.457894  ...   0.917307          0.910715\n",
              "\n",
              "[2 rows x 6 columns]"
            ]
          },
          "metadata": {
            "tags": []
          },
          "execution_count": 72
        }
      ]
    },
    {
      "cell_type": "code",
      "metadata": {
        "id": "ccgbWAo_7voc"
      },
      "source": [
        "#ridge Regression"
      ],
      "execution_count": 58,
      "outputs": []
    },
    {
      "cell_type": "code",
      "metadata": {
        "id": "2FrCLdOd8Io1"
      },
      "source": [
        "from sklearn.linear_model import Ridge\r\n",
        "model_ridg=Ridge(alpha=100, solver='cholesky', tol=0.0001, random_state=42)\r\n",
        "model_ridg.fit(X_train,y_train)\r\n",
        "pred_ridg=model_ridg.predict(X_test)"
      ],
      "execution_count": 60,
      "outputs": []
    },
    {
      "cell_type": "code",
      "metadata": {
        "colab": {
          "base_uri": "https://localhost:8080/",
          "height": 143
        },
        "id": "dLNqt59789KY",
        "outputId": "ec561620-244a-4fa2-b25a-0006a18b2a67"
      },
      "source": [
        "result_ridg=pd.DataFrame(data=[['Ridge Regression',*eval(y_test,pred_ridg),croval(Ridge())]],\r\n",
        "                         columns=['Model', 'MAE', 'MSE', 'RMSE', 'R2 Square', \"Cross Validation\"])\r\n",
        "results_df=results_df.append(result_ridg,ignore_index=True)\r\n",
        "results_df"
      ],
      "execution_count": 73,
      "outputs": [
        {
          "output_type": "execute_result",
          "data": {
            "text/html": [
              "<div>\n",
              "<style scoped>\n",
              "    .dataframe tbody tr th:only-of-type {\n",
              "        vertical-align: middle;\n",
              "    }\n",
              "\n",
              "    .dataframe tbody tr th {\n",
              "        vertical-align: top;\n",
              "    }\n",
              "\n",
              "    .dataframe thead th {\n",
              "        text-align: right;\n",
              "    }\n",
              "</style>\n",
              "<table border=\"1\" class=\"dataframe\">\n",
              "  <thead>\n",
              "    <tr style=\"text-align: right;\">\n",
              "      <th></th>\n",
              "      <th>Model</th>\n",
              "      <th>MAE</th>\n",
              "      <th>MSE</th>\n",
              "      <th>RMSE</th>\n",
              "      <th>R2 Square</th>\n",
              "      <th>Cross Validation</th>\n",
              "    </tr>\n",
              "  </thead>\n",
              "  <tbody>\n",
              "    <tr>\n",
              "      <th>0</th>\n",
              "      <td>Linear Regression</td>\n",
              "      <td>80673.257669</td>\n",
              "      <td>1.005189e+10</td>\n",
              "      <td>100259.095842</td>\n",
              "      <td>0.918724</td>\n",
              "      <td>0.917559</td>\n",
              "    </tr>\n",
              "    <tr>\n",
              "      <th>1</th>\n",
              "      <td>Robust Regression</td>\n",
              "      <td>81727.457894</td>\n",
              "      <td>1.022712e+10</td>\n",
              "      <td>101129.225918</td>\n",
              "      <td>0.917307</td>\n",
              "      <td>0.910715</td>\n",
              "    </tr>\n",
              "    <tr>\n",
              "      <th>2</th>\n",
              "      <td>Ridge Regression</td>\n",
              "      <td>81178.393965</td>\n",
              "      <td>1.011867e+10</td>\n",
              "      <td>100591.607832</td>\n",
              "      <td>0.918184</td>\n",
              "      <td>0.917559</td>\n",
              "    </tr>\n",
              "  </tbody>\n",
              "</table>\n",
              "</div>"
            ],
            "text/plain": [
              "               Model           MAE  ...  R2 Square  Cross Validation\n",
              "0  Linear Regression  80673.257669  ...   0.918724          0.917559\n",
              "1  Robust Regression  81727.457894  ...   0.917307          0.910715\n",
              "2   Ridge Regression  81178.393965  ...   0.918184          0.917559\n",
              "\n",
              "[3 rows x 6 columns]"
            ]
          },
          "metadata": {
            "tags": []
          },
          "execution_count": 73
        }
      ]
    },
    {
      "cell_type": "code",
      "metadata": {
        "id": "I1t_VMsL98ZT"
      },
      "source": [
        "\r\n",
        "#Lasso Regression"
      ],
      "execution_count": null,
      "outputs": []
    },
    {
      "cell_type": "code",
      "metadata": {
        "colab": {
          "base_uri": "https://localhost:8080/"
        },
        "id": "SQs8Q8TG-6tF",
        "outputId": "33913883-435b-408b-a5f3-a71d7697fd51"
      },
      "source": [
        "from sklearn.linear_model import Lasso\r\n",
        "\r\n",
        "model_las = Lasso(alpha=0.1, \r\n",
        "              precompute=True, \r\n",
        "              positive=True, \r\n",
        "              selection='random',\r\n",
        "              random_state=42)\r\n",
        "model_las.fit(X_train, y_train)"
      ],
      "execution_count": 74,
      "outputs": [
        {
          "output_type": "execute_result",
          "data": {
            "text/plain": [
              "Lasso(alpha=0.1, copy_X=True, fit_intercept=True, max_iter=1000,\n",
              "      normalize=False, positive=True, precompute=True, random_state=42,\n",
              "      selection='random', tol=0.0001, warm_start=False)"
            ]
          },
          "metadata": {
            "tags": []
          },
          "execution_count": 74
        }
      ]
    },
    {
      "cell_type": "code",
      "metadata": {
        "id": "ykQKy79rAdll"
      },
      "source": [
        "pred_las=model_las.predict(X_test)"
      ],
      "execution_count": 75,
      "outputs": []
    },
    {
      "cell_type": "code",
      "metadata": {
        "colab": {
          "base_uri": "https://localhost:8080/",
          "height": 175
        },
        "id": "A8NL7_huAlrt",
        "outputId": "f52a0c41-caa1-404c-c931-a2173b67de38"
      },
      "source": [
        "result_las=pd.DataFrame(data=[['Lasso Regression',*eval(y_test,pred_las),croval(Lasso())]],\r\n",
        "                         columns=['Model', 'MAE', 'MSE', 'RMSE', 'R2 Square', \"Cross Validation\"])\r\n",
        "results_df=results_df.append(result_las,ignore_index=True)\r\n",
        "results_df"
      ],
      "execution_count": 76,
      "outputs": [
        {
          "output_type": "execute_result",
          "data": {
            "text/html": [
              "<div>\n",
              "<style scoped>\n",
              "    .dataframe tbody tr th:only-of-type {\n",
              "        vertical-align: middle;\n",
              "    }\n",
              "\n",
              "    .dataframe tbody tr th {\n",
              "        vertical-align: top;\n",
              "    }\n",
              "\n",
              "    .dataframe thead th {\n",
              "        text-align: right;\n",
              "    }\n",
              "</style>\n",
              "<table border=\"1\" class=\"dataframe\">\n",
              "  <thead>\n",
              "    <tr style=\"text-align: right;\">\n",
              "      <th></th>\n",
              "      <th>Model</th>\n",
              "      <th>MAE</th>\n",
              "      <th>MSE</th>\n",
              "      <th>RMSE</th>\n",
              "      <th>R2 Square</th>\n",
              "      <th>Cross Validation</th>\n",
              "    </tr>\n",
              "  </thead>\n",
              "  <tbody>\n",
              "    <tr>\n",
              "      <th>0</th>\n",
              "      <td>Linear Regression</td>\n",
              "      <td>80673.257669</td>\n",
              "      <td>1.005189e+10</td>\n",
              "      <td>100259.095842</td>\n",
              "      <td>0.918724</td>\n",
              "      <td>0.917559</td>\n",
              "    </tr>\n",
              "    <tr>\n",
              "      <th>1</th>\n",
              "      <td>Robust Regression</td>\n",
              "      <td>81727.457894</td>\n",
              "      <td>1.022712e+10</td>\n",
              "      <td>101129.225918</td>\n",
              "      <td>0.917307</td>\n",
              "      <td>0.910715</td>\n",
              "    </tr>\n",
              "    <tr>\n",
              "      <th>2</th>\n",
              "      <td>Ridge Regression</td>\n",
              "      <td>81178.393965</td>\n",
              "      <td>1.011867e+10</td>\n",
              "      <td>100591.607832</td>\n",
              "      <td>0.918184</td>\n",
              "      <td>0.917559</td>\n",
              "    </tr>\n",
              "    <tr>\n",
              "      <th>3</th>\n",
              "      <td>Lasso Regression</td>\n",
              "      <td>80673.274340</td>\n",
              "      <td>1.005190e+10</td>\n",
              "      <td>100259.144894</td>\n",
              "      <td>0.918723</td>\n",
              "      <td>0.917559</td>\n",
              "    </tr>\n",
              "  </tbody>\n",
              "</table>\n",
              "</div>"
            ],
            "text/plain": [
              "               Model           MAE  ...  R2 Square  Cross Validation\n",
              "0  Linear Regression  80673.257669  ...   0.918724          0.917559\n",
              "1  Robust Regression  81727.457894  ...   0.917307          0.910715\n",
              "2   Ridge Regression  81178.393965  ...   0.918184          0.917559\n",
              "3   Lasso Regression  80673.274340  ...   0.918723          0.917559\n",
              "\n",
              "[4 rows x 6 columns]"
            ]
          },
          "metadata": {
            "tags": []
          },
          "execution_count": 76
        }
      ]
    },
    {
      "cell_type": "code",
      "metadata": {
        "id": "BK-2Obn0BCM3"
      },
      "source": [
        "#Elastic Net"
      ],
      "execution_count": 77,
      "outputs": []
    },
    {
      "cell_type": "code",
      "metadata": {
        "colab": {
          "base_uri": "https://localhost:8080/"
        },
        "id": "9hNkb9MzBRg-",
        "outputId": "60519a51-3a0e-432b-f8cf-641c0e369e55"
      },
      "source": [
        "from sklearn.linear_model import ElasticNet\r\n",
        "\r\n",
        "model_EN = ElasticNet(alpha=0.1, l1_ratio=0.9, selection='random', random_state=42)\r\n",
        "model_EN.fit(X_train, y_train)"
      ],
      "execution_count": 78,
      "outputs": [
        {
          "output_type": "execute_result",
          "data": {
            "text/plain": [
              "ElasticNet(alpha=0.1, copy_X=True, fit_intercept=True, l1_ratio=0.9,\n",
              "           max_iter=1000, normalize=False, positive=False, precompute=False,\n",
              "           random_state=42, selection='random', tol=0.0001, warm_start=False)"
            ]
          },
          "metadata": {
            "tags": []
          },
          "execution_count": 78
        }
      ]
    },
    {
      "cell_type": "code",
      "metadata": {
        "id": "ZGyPPZi3BXpu"
      },
      "source": [
        "pred_EN=model_EN.predict(X_test)"
      ],
      "execution_count": 79,
      "outputs": []
    },
    {
      "cell_type": "code",
      "metadata": {
        "colab": {
          "base_uri": "https://localhost:8080/",
          "height": 238
        },
        "id": "AZbUDjRYBine",
        "outputId": "be7166d6-6ce4-413e-a090-00fb71e5722c"
      },
      "source": [
        "result_EN=pd.DataFrame(data=[['ElasticNet Regression',*eval(y_test,pred_EN),croval(ElasticNet())]],\r\n",
        "                         columns=['Model', 'MAE', 'MSE', 'RMSE', 'R2 Square', \"Cross Validation\"])\r\n",
        "results_df=results_df.append(result_EN,ignore_index=True)\r\n",
        "results_df"
      ],
      "execution_count": 81,
      "outputs": [
        {
          "output_type": "execute_result",
          "data": {
            "text/html": [
              "<div>\n",
              "<style scoped>\n",
              "    .dataframe tbody tr th:only-of-type {\n",
              "        vertical-align: middle;\n",
              "    }\n",
              "\n",
              "    .dataframe tbody tr th {\n",
              "        vertical-align: top;\n",
              "    }\n",
              "\n",
              "    .dataframe thead th {\n",
              "        text-align: right;\n",
              "    }\n",
              "</style>\n",
              "<table border=\"1\" class=\"dataframe\">\n",
              "  <thead>\n",
              "    <tr style=\"text-align: right;\">\n",
              "      <th></th>\n",
              "      <th>Model</th>\n",
              "      <th>MAE</th>\n",
              "      <th>MSE</th>\n",
              "      <th>RMSE</th>\n",
              "      <th>R2 Square</th>\n",
              "      <th>Cross Validation</th>\n",
              "    </tr>\n",
              "  </thead>\n",
              "  <tbody>\n",
              "    <tr>\n",
              "      <th>0</th>\n",
              "      <td>Linear Regression</td>\n",
              "      <td>80673.257669</td>\n",
              "      <td>1.005189e+10</td>\n",
              "      <td>100259.095842</td>\n",
              "      <td>0.918724</td>\n",
              "      <td>0.917559</td>\n",
              "    </tr>\n",
              "    <tr>\n",
              "      <th>1</th>\n",
              "      <td>Robust Regression</td>\n",
              "      <td>81727.457894</td>\n",
              "      <td>1.022712e+10</td>\n",
              "      <td>101129.225918</td>\n",
              "      <td>0.917307</td>\n",
              "      <td>0.910715</td>\n",
              "    </tr>\n",
              "    <tr>\n",
              "      <th>2</th>\n",
              "      <td>Ridge Regression</td>\n",
              "      <td>81178.393965</td>\n",
              "      <td>1.011867e+10</td>\n",
              "      <td>100591.607832</td>\n",
              "      <td>0.918184</td>\n",
              "      <td>0.917559</td>\n",
              "    </tr>\n",
              "    <tr>\n",
              "      <th>3</th>\n",
              "      <td>Lasso Regression</td>\n",
              "      <td>80673.274340</td>\n",
              "      <td>1.005190e+10</td>\n",
              "      <td>100259.144894</td>\n",
              "      <td>0.918723</td>\n",
              "      <td>0.917559</td>\n",
              "    </tr>\n",
              "    <tr>\n",
              "      <th>4</th>\n",
              "      <td>Lasso Regression</td>\n",
              "      <td>80772.704642</td>\n",
              "      <td>1.005390e+10</td>\n",
              "      <td>100269.157468</td>\n",
              "      <td>0.918707</td>\n",
              "      <td>0.879767</td>\n",
              "    </tr>\n",
              "    <tr>\n",
              "      <th>5</th>\n",
              "      <td>ElasticNet Regression</td>\n",
              "      <td>80772.704642</td>\n",
              "      <td>1.005390e+10</td>\n",
              "      <td>100269.157468</td>\n",
              "      <td>0.918707</td>\n",
              "      <td>0.879767</td>\n",
              "    </tr>\n",
              "  </tbody>\n",
              "</table>\n",
              "</div>"
            ],
            "text/plain": [
              "                   Model           MAE  ...  R2 Square  Cross Validation\n",
              "0      Linear Regression  80673.257669  ...   0.918724          0.917559\n",
              "1      Robust Regression  81727.457894  ...   0.917307          0.910715\n",
              "2       Ridge Regression  81178.393965  ...   0.918184          0.917559\n",
              "3       Lasso Regression  80673.274340  ...   0.918723          0.917559\n",
              "4       Lasso Regression  80772.704642  ...   0.918707          0.879767\n",
              "5  ElasticNet Regression  80772.704642  ...   0.918707          0.879767\n",
              "\n",
              "[6 rows x 6 columns]"
            ]
          },
          "metadata": {
            "tags": []
          },
          "execution_count": 81
        }
      ]
    },
    {
      "cell_type": "code",
      "metadata": {
        "id": "vuk03eD8Bxfr"
      },
      "source": [
        "results_df.drop([4],inplace=True)"
      ],
      "execution_count": 82,
      "outputs": []
    },
    {
      "cell_type": "code",
      "metadata": {
        "colab": {
          "base_uri": "https://localhost:8080/",
          "height": 206
        },
        "id": "4IMavSj-CHVJ",
        "outputId": "e803c9bc-bcdb-45bf-b3d5-9344bd3d6233"
      },
      "source": [
        "results_df"
      ],
      "execution_count": 83,
      "outputs": [
        {
          "output_type": "execute_result",
          "data": {
            "text/html": [
              "<div>\n",
              "<style scoped>\n",
              "    .dataframe tbody tr th:only-of-type {\n",
              "        vertical-align: middle;\n",
              "    }\n",
              "\n",
              "    .dataframe tbody tr th {\n",
              "        vertical-align: top;\n",
              "    }\n",
              "\n",
              "    .dataframe thead th {\n",
              "        text-align: right;\n",
              "    }\n",
              "</style>\n",
              "<table border=\"1\" class=\"dataframe\">\n",
              "  <thead>\n",
              "    <tr style=\"text-align: right;\">\n",
              "      <th></th>\n",
              "      <th>Model</th>\n",
              "      <th>MAE</th>\n",
              "      <th>MSE</th>\n",
              "      <th>RMSE</th>\n",
              "      <th>R2 Square</th>\n",
              "      <th>Cross Validation</th>\n",
              "    </tr>\n",
              "  </thead>\n",
              "  <tbody>\n",
              "    <tr>\n",
              "      <th>0</th>\n",
              "      <td>Linear Regression</td>\n",
              "      <td>80673.257669</td>\n",
              "      <td>1.005189e+10</td>\n",
              "      <td>100259.095842</td>\n",
              "      <td>0.918724</td>\n",
              "      <td>0.917559</td>\n",
              "    </tr>\n",
              "    <tr>\n",
              "      <th>1</th>\n",
              "      <td>Robust Regression</td>\n",
              "      <td>81727.457894</td>\n",
              "      <td>1.022712e+10</td>\n",
              "      <td>101129.225918</td>\n",
              "      <td>0.917307</td>\n",
              "      <td>0.910715</td>\n",
              "    </tr>\n",
              "    <tr>\n",
              "      <th>2</th>\n",
              "      <td>Ridge Regression</td>\n",
              "      <td>81178.393965</td>\n",
              "      <td>1.011867e+10</td>\n",
              "      <td>100591.607832</td>\n",
              "      <td>0.918184</td>\n",
              "      <td>0.917559</td>\n",
              "    </tr>\n",
              "    <tr>\n",
              "      <th>3</th>\n",
              "      <td>Lasso Regression</td>\n",
              "      <td>80673.274340</td>\n",
              "      <td>1.005190e+10</td>\n",
              "      <td>100259.144894</td>\n",
              "      <td>0.918723</td>\n",
              "      <td>0.917559</td>\n",
              "    </tr>\n",
              "    <tr>\n",
              "      <th>5</th>\n",
              "      <td>ElasticNet Regression</td>\n",
              "      <td>80772.704642</td>\n",
              "      <td>1.005390e+10</td>\n",
              "      <td>100269.157468</td>\n",
              "      <td>0.918707</td>\n",
              "      <td>0.879767</td>\n",
              "    </tr>\n",
              "  </tbody>\n",
              "</table>\n",
              "</div>"
            ],
            "text/plain": [
              "                   Model           MAE  ...  R2 Square  Cross Validation\n",
              "0      Linear Regression  80673.257669  ...   0.918724          0.917559\n",
              "1      Robust Regression  81727.457894  ...   0.917307          0.910715\n",
              "2       Ridge Regression  81178.393965  ...   0.918184          0.917559\n",
              "3       Lasso Regression  80673.274340  ...   0.918723          0.917559\n",
              "5  ElasticNet Regression  80772.704642  ...   0.918707          0.879767\n",
              "\n",
              "[5 rows x 6 columns]"
            ]
          },
          "metadata": {
            "tags": []
          },
          "execution_count": 83
        }
      ]
    },
    {
      "cell_type": "code",
      "metadata": {
        "colab": {
          "base_uri": "https://localhost:8080/"
        },
        "id": "r-1XnGYTCKuy",
        "outputId": "36283289-cab8-46f3-e2c3-497be60485cb"
      },
      "source": [
        "from sklearn.preprocessing import PolynomialFeatures\r\n",
        "\r\n",
        "poly_reg = PolynomialFeatures(degree=2)\r\n",
        "\r\n",
        "X_train_2_d = poly_reg.fit_transform(X_train)\r\n",
        "X_test_2_d = poly_reg.transform(X_test)\r\n",
        "\r\n",
        "lin_reg = LinearRegression(normalize=True)\r\n",
        "lin_reg.fit(X_train_2_d,y_train)"
      ],
      "execution_count": 84,
      "outputs": [
        {
          "output_type": "execute_result",
          "data": {
            "text/plain": [
              "LinearRegression(copy_X=True, fit_intercept=True, n_jobs=None, normalize=True)"
            ]
          },
          "metadata": {
            "tags": []
          },
          "execution_count": 84
        }
      ]
    },
    {
      "cell_type": "code",
      "metadata": {
        "id": "GzcNxRWpEQOw"
      },
      "source": [
        "pred_pol=lin_reg.predict(X_test_2_d)"
      ],
      "execution_count": 85,
      "outputs": []
    },
    {
      "cell_type": "code",
      "metadata": {
        "colab": {
          "base_uri": "https://localhost:8080/",
          "height": 238
        },
        "id": "DEGxgsayEoNL",
        "outputId": "56ec18af-35f5-442f-9836-ad406dd89257"
      },
      "source": [
        "result_pol=pd.DataFrame(data=[['Polynomial Regression',*eval(y_test,pred_pol),0]],\r\n",
        "                         columns=['Model', 'MAE', 'MSE', 'RMSE', 'R2 Square', \"Cross Validation\"])\r\n",
        "results_df=results_df.append(result_pol,ignore_index=True)\r\n",
        "results_df"
      ],
      "execution_count": 86,
      "outputs": [
        {
          "output_type": "execute_result",
          "data": {
            "text/html": [
              "<div>\n",
              "<style scoped>\n",
              "    .dataframe tbody tr th:only-of-type {\n",
              "        vertical-align: middle;\n",
              "    }\n",
              "\n",
              "    .dataframe tbody tr th {\n",
              "        vertical-align: top;\n",
              "    }\n",
              "\n",
              "    .dataframe thead th {\n",
              "        text-align: right;\n",
              "    }\n",
              "</style>\n",
              "<table border=\"1\" class=\"dataframe\">\n",
              "  <thead>\n",
              "    <tr style=\"text-align: right;\">\n",
              "      <th></th>\n",
              "      <th>Model</th>\n",
              "      <th>MAE</th>\n",
              "      <th>MSE</th>\n",
              "      <th>RMSE</th>\n",
              "      <th>R2 Square</th>\n",
              "      <th>Cross Validation</th>\n",
              "    </tr>\n",
              "  </thead>\n",
              "  <tbody>\n",
              "    <tr>\n",
              "      <th>0</th>\n",
              "      <td>Linear Regression</td>\n",
              "      <td>80673.257669</td>\n",
              "      <td>1.005189e+10</td>\n",
              "      <td>100259.095842</td>\n",
              "      <td>0.918724</td>\n",
              "      <td>0.917559</td>\n",
              "    </tr>\n",
              "    <tr>\n",
              "      <th>1</th>\n",
              "      <td>Robust Regression</td>\n",
              "      <td>81727.457894</td>\n",
              "      <td>1.022712e+10</td>\n",
              "      <td>101129.225918</td>\n",
              "      <td>0.917307</td>\n",
              "      <td>0.910715</td>\n",
              "    </tr>\n",
              "    <tr>\n",
              "      <th>2</th>\n",
              "      <td>Ridge Regression</td>\n",
              "      <td>81178.393965</td>\n",
              "      <td>1.011867e+10</td>\n",
              "      <td>100591.607832</td>\n",
              "      <td>0.918184</td>\n",
              "      <td>0.917559</td>\n",
              "    </tr>\n",
              "    <tr>\n",
              "      <th>3</th>\n",
              "      <td>Lasso Regression</td>\n",
              "      <td>80673.274340</td>\n",
              "      <td>1.005190e+10</td>\n",
              "      <td>100259.144894</td>\n",
              "      <td>0.918723</td>\n",
              "      <td>0.917559</td>\n",
              "    </tr>\n",
              "    <tr>\n",
              "      <th>4</th>\n",
              "      <td>ElasticNet Regression</td>\n",
              "      <td>80772.704642</td>\n",
              "      <td>1.005390e+10</td>\n",
              "      <td>100269.157468</td>\n",
              "      <td>0.918707</td>\n",
              "      <td>0.879767</td>\n",
              "    </tr>\n",
              "    <tr>\n",
              "      <th>5</th>\n",
              "      <td>Polynomial Regression</td>\n",
              "      <td>80841.229463</td>\n",
              "      <td>1.010490e+10</td>\n",
              "      <td>100523.132864</td>\n",
              "      <td>0.918295</td>\n",
              "      <td>0.000000</td>\n",
              "    </tr>\n",
              "  </tbody>\n",
              "</table>\n",
              "</div>"
            ],
            "text/plain": [
              "                   Model           MAE  ...  R2 Square  Cross Validation\n",
              "0      Linear Regression  80673.257669  ...   0.918724          0.917559\n",
              "1      Robust Regression  81727.457894  ...   0.917307          0.910715\n",
              "2       Ridge Regression  81178.393965  ...   0.918184          0.917559\n",
              "3       Lasso Regression  80673.274340  ...   0.918723          0.917559\n",
              "4  ElasticNet Regression  80772.704642  ...   0.918707          0.879767\n",
              "5  Polynomial Regression  80841.229463  ...   0.918295          0.000000\n",
              "\n",
              "[6 rows x 6 columns]"
            ]
          },
          "metadata": {
            "tags": []
          },
          "execution_count": 86
        }
      ]
    },
    {
      "cell_type": "code",
      "metadata": {
        "id": "KiXQH5bSFQhw"
      },
      "source": [
        "#Random Forest Regression"
      ],
      "execution_count": 87,
      "outputs": []
    },
    {
      "cell_type": "code",
      "metadata": {
        "colab": {
          "base_uri": "https://localhost:8080/"
        },
        "id": "hLfL8k9aG7Nm",
        "outputId": "301c2253-6fb3-4043-f767-c99285c0b772"
      },
      "source": [
        "from sklearn.ensemble import RandomForestRegressor\r\n",
        "model_RF=RandomForestRegressor(n_estimators=1000)\r\n",
        "model_RF.fit(X_train,y_train)"
      ],
      "execution_count": 88,
      "outputs": [
        {
          "output_type": "execute_result",
          "data": {
            "text/plain": [
              "RandomForestRegressor(bootstrap=True, ccp_alpha=0.0, criterion='mse',\n",
              "                      max_depth=None, max_features='auto', max_leaf_nodes=None,\n",
              "                      max_samples=None, min_impurity_decrease=0.0,\n",
              "                      min_impurity_split=None, min_samples_leaf=1,\n",
              "                      min_samples_split=2, min_weight_fraction_leaf=0.0,\n",
              "                      n_estimators=1000, n_jobs=None, oob_score=False,\n",
              "                      random_state=None, verbose=0, warm_start=False)"
            ]
          },
          "metadata": {
            "tags": []
          },
          "execution_count": 88
        }
      ]
    },
    {
      "cell_type": "code",
      "metadata": {
        "id": "IY3lGVBGHbIg"
      },
      "source": [
        "pred_RF=model_RF.predict(X_test)"
      ],
      "execution_count": 89,
      "outputs": []
    },
    {
      "cell_type": "code",
      "metadata": {
        "id": "bKycuDAGHrVl"
      },
      "source": [
        "result_RF=pd.DataFrame(data=[['RF Regression', *eval(y_test,pred_RF),croval(RandomForestRegressor())]],\r\n",
        "                       columns=['Model', 'MAE', 'MSE', 'RMSE', 'R2 Square', \"Cross Validation\"])\r\n",
        "results_df=results_df.append(result_RF,ignore_index=True)"
      ],
      "execution_count": 91,
      "outputs": []
    },
    {
      "cell_type": "code",
      "metadata": {
        "colab": {
          "base_uri": "https://localhost:8080/",
          "height": 269
        },
        "id": "supqCtF_Inx2",
        "outputId": "51a30ad6-5406-43d4-abf4-679b0f3be31e"
      },
      "source": [
        "results_df"
      ],
      "execution_count": 92,
      "outputs": [
        {
          "output_type": "execute_result",
          "data": {
            "text/html": [
              "<div>\n",
              "<style scoped>\n",
              "    .dataframe tbody tr th:only-of-type {\n",
              "        vertical-align: middle;\n",
              "    }\n",
              "\n",
              "    .dataframe tbody tr th {\n",
              "        vertical-align: top;\n",
              "    }\n",
              "\n",
              "    .dataframe thead th {\n",
              "        text-align: right;\n",
              "    }\n",
              "</style>\n",
              "<table border=\"1\" class=\"dataframe\">\n",
              "  <thead>\n",
              "    <tr style=\"text-align: right;\">\n",
              "      <th></th>\n",
              "      <th>Model</th>\n",
              "      <th>MAE</th>\n",
              "      <th>MSE</th>\n",
              "      <th>RMSE</th>\n",
              "      <th>R2 Square</th>\n",
              "      <th>Cross Validation</th>\n",
              "    </tr>\n",
              "  </thead>\n",
              "  <tbody>\n",
              "    <tr>\n",
              "      <th>0</th>\n",
              "      <td>Linear Regression</td>\n",
              "      <td>80673.257669</td>\n",
              "      <td>1.005189e+10</td>\n",
              "      <td>100259.095842</td>\n",
              "      <td>0.918724</td>\n",
              "      <td>0.917559</td>\n",
              "    </tr>\n",
              "    <tr>\n",
              "      <th>1</th>\n",
              "      <td>Robust Regression</td>\n",
              "      <td>81727.457894</td>\n",
              "      <td>1.022712e+10</td>\n",
              "      <td>101129.225918</td>\n",
              "      <td>0.917307</td>\n",
              "      <td>0.910715</td>\n",
              "    </tr>\n",
              "    <tr>\n",
              "      <th>2</th>\n",
              "      <td>Ridge Regression</td>\n",
              "      <td>81178.393965</td>\n",
              "      <td>1.011867e+10</td>\n",
              "      <td>100591.607832</td>\n",
              "      <td>0.918184</td>\n",
              "      <td>0.917559</td>\n",
              "    </tr>\n",
              "    <tr>\n",
              "      <th>3</th>\n",
              "      <td>Lasso Regression</td>\n",
              "      <td>80673.274340</td>\n",
              "      <td>1.005190e+10</td>\n",
              "      <td>100259.144894</td>\n",
              "      <td>0.918723</td>\n",
              "      <td>0.917559</td>\n",
              "    </tr>\n",
              "    <tr>\n",
              "      <th>4</th>\n",
              "      <td>ElasticNet Regression</td>\n",
              "      <td>80772.704642</td>\n",
              "      <td>1.005390e+10</td>\n",
              "      <td>100269.157468</td>\n",
              "      <td>0.918707</td>\n",
              "      <td>0.879767</td>\n",
              "    </tr>\n",
              "    <tr>\n",
              "      <th>5</th>\n",
              "      <td>Polynomial Regression</td>\n",
              "      <td>80841.229463</td>\n",
              "      <td>1.010490e+10</td>\n",
              "      <td>100523.132864</td>\n",
              "      <td>0.918295</td>\n",
              "      <td>0.000000</td>\n",
              "    </tr>\n",
              "    <tr>\n",
              "      <th>6</th>\n",
              "      <td>RF Regression</td>\n",
              "      <td>93652.114092</td>\n",
              "      <td>1.402833e+10</td>\n",
              "      <td>118441.244457</td>\n",
              "      <td>0.886571</td>\n",
              "      <td>0.882358</td>\n",
              "    </tr>\n",
              "  </tbody>\n",
              "</table>\n",
              "</div>"
            ],
            "text/plain": [
              "                   Model           MAE  ...  R2 Square  Cross Validation\n",
              "0      Linear Regression  80673.257669  ...   0.918724          0.917559\n",
              "1      Robust Regression  81727.457894  ...   0.917307          0.910715\n",
              "2       Ridge Regression  81178.393965  ...   0.918184          0.917559\n",
              "3       Lasso Regression  80673.274340  ...   0.918723          0.917559\n",
              "4  ElasticNet Regression  80772.704642  ...   0.918707          0.879767\n",
              "5  Polynomial Regression  80841.229463  ...   0.918295          0.000000\n",
              "6          RF Regression  93652.114092  ...   0.886571          0.882358\n",
              "\n",
              "[7 rows x 6 columns]"
            ]
          },
          "metadata": {
            "tags": []
          },
          "execution_count": 92
        }
      ]
    },
    {
      "cell_type": "code",
      "metadata": {
        "id": "LcQKMDF3IwI8"
      },
      "source": [
        "# Support Vector Regressor"
      ],
      "execution_count": 93,
      "outputs": []
    },
    {
      "cell_type": "code",
      "metadata": {
        "colab": {
          "base_uri": "https://localhost:8080/"
        },
        "id": "8Dgj5o3BI6Sw",
        "outputId": "20486682-e4b6-41db-f554-4424fb03ba7b"
      },
      "source": [
        "from sklearn.svm import SVR\r\n",
        "model_svr=SVR(kernel='rbf', C=1000000, epsilon=0.001)\r\n",
        "model_svr.fit(X_train,y_train)"
      ],
      "execution_count": 94,
      "outputs": [
        {
          "output_type": "execute_result",
          "data": {
            "text/plain": [
              "SVR(C=1000000, cache_size=200, coef0=0.0, degree=3, epsilon=0.001,\n",
              "    gamma='scale', kernel='rbf', max_iter=-1, shrinking=True, tol=0.001,\n",
              "    verbose=False)"
            ]
          },
          "metadata": {
            "tags": []
          },
          "execution_count": 94
        }
      ]
    },
    {
      "cell_type": "code",
      "metadata": {
        "id": "ejq8yWTVJSsD"
      },
      "source": [
        "pred_svr=model_svr.predict(X_test)"
      ],
      "execution_count": 96,
      "outputs": []
    },
    {
      "cell_type": "code",
      "metadata": {
        "colab": {
          "base_uri": "https://localhost:8080/",
          "height": 300
        },
        "id": "hTySa1EFJgvG",
        "outputId": "774f7986-c376-42a2-8b1b-90a11e9c78c5"
      },
      "source": [
        "result_svr=pd.DataFrame(data=[['SVM',*eval(y_test,pred_svr),croval(SVR())]],\r\n",
        "                        columns=['Model', 'MAE', 'MSE', 'RMSE', 'R2 Square', \"Cross Validation\"])\r\n",
        "results_df=results_df.append(result_svr,ignore_index=True)\r\n",
        "results_df"
      ],
      "execution_count": 97,
      "outputs": [
        {
          "output_type": "execute_result",
          "data": {
            "text/html": [
              "<div>\n",
              "<style scoped>\n",
              "    .dataframe tbody tr th:only-of-type {\n",
              "        vertical-align: middle;\n",
              "    }\n",
              "\n",
              "    .dataframe tbody tr th {\n",
              "        vertical-align: top;\n",
              "    }\n",
              "\n",
              "    .dataframe thead th {\n",
              "        text-align: right;\n",
              "    }\n",
              "</style>\n",
              "<table border=\"1\" class=\"dataframe\">\n",
              "  <thead>\n",
              "    <tr style=\"text-align: right;\">\n",
              "      <th></th>\n",
              "      <th>Model</th>\n",
              "      <th>MAE</th>\n",
              "      <th>MSE</th>\n",
              "      <th>RMSE</th>\n",
              "      <th>R2 Square</th>\n",
              "      <th>Cross Validation</th>\n",
              "    </tr>\n",
              "  </thead>\n",
              "  <tbody>\n",
              "    <tr>\n",
              "      <th>0</th>\n",
              "      <td>Linear Regression</td>\n",
              "      <td>80673.257669</td>\n",
              "      <td>1.005189e+10</td>\n",
              "      <td>100259.095842</td>\n",
              "      <td>0.918724</td>\n",
              "      <td>0.917559</td>\n",
              "    </tr>\n",
              "    <tr>\n",
              "      <th>1</th>\n",
              "      <td>Robust Regression</td>\n",
              "      <td>81727.457894</td>\n",
              "      <td>1.022712e+10</td>\n",
              "      <td>101129.225918</td>\n",
              "      <td>0.917307</td>\n",
              "      <td>0.910715</td>\n",
              "    </tr>\n",
              "    <tr>\n",
              "      <th>2</th>\n",
              "      <td>Ridge Regression</td>\n",
              "      <td>81178.393965</td>\n",
              "      <td>1.011867e+10</td>\n",
              "      <td>100591.607832</td>\n",
              "      <td>0.918184</td>\n",
              "      <td>0.917559</td>\n",
              "    </tr>\n",
              "    <tr>\n",
              "      <th>3</th>\n",
              "      <td>Lasso Regression</td>\n",
              "      <td>80673.274340</td>\n",
              "      <td>1.005190e+10</td>\n",
              "      <td>100259.144894</td>\n",
              "      <td>0.918723</td>\n",
              "      <td>0.917559</td>\n",
              "    </tr>\n",
              "    <tr>\n",
              "      <th>4</th>\n",
              "      <td>ElasticNet Regression</td>\n",
              "      <td>80772.704642</td>\n",
              "      <td>1.005390e+10</td>\n",
              "      <td>100269.157468</td>\n",
              "      <td>0.918707</td>\n",
              "      <td>0.879767</td>\n",
              "    </tr>\n",
              "    <tr>\n",
              "      <th>5</th>\n",
              "      <td>Polynomial Regression</td>\n",
              "      <td>80841.229463</td>\n",
              "      <td>1.010490e+10</td>\n",
              "      <td>100523.132864</td>\n",
              "      <td>0.918295</td>\n",
              "      <td>0.000000</td>\n",
              "    </tr>\n",
              "    <tr>\n",
              "      <th>6</th>\n",
              "      <td>RF Regression</td>\n",
              "      <td>93652.114092</td>\n",
              "      <td>1.402833e+10</td>\n",
              "      <td>118441.244457</td>\n",
              "      <td>0.886571</td>\n",
              "      <td>0.882358</td>\n",
              "    </tr>\n",
              "    <tr>\n",
              "      <th>7</th>\n",
              "      <td>SVM</td>\n",
              "      <td>86311.599978</td>\n",
              "      <td>1.145487e+10</td>\n",
              "      <td>107027.412387</td>\n",
              "      <td>0.907379</td>\n",
              "      <td>-0.000927</td>\n",
              "    </tr>\n",
              "  </tbody>\n",
              "</table>\n",
              "</div>"
            ],
            "text/plain": [
              "                   Model           MAE  ...  R2 Square  Cross Validation\n",
              "0      Linear Regression  80673.257669  ...   0.918724          0.917559\n",
              "1      Robust Regression  81727.457894  ...   0.917307          0.910715\n",
              "2       Ridge Regression  81178.393965  ...   0.918184          0.917559\n",
              "3       Lasso Regression  80673.274340  ...   0.918723          0.917559\n",
              "4  ElasticNet Regression  80772.704642  ...   0.918707          0.879767\n",
              "5  Polynomial Regression  80841.229463  ...   0.918295          0.000000\n",
              "6          RF Regression  93652.114092  ...   0.886571          0.882358\n",
              "7                    SVM  86311.599978  ...   0.907379         -0.000927\n",
              "\n",
              "[8 rows x 6 columns]"
            ]
          },
          "metadata": {
            "tags": []
          },
          "execution_count": 97
        }
      ]
    },
    {
      "cell_type": "code",
      "metadata": {
        "id": "0cSlm556KQQU"
      },
      "source": [
        "results_df.set_index('Model',inplace=True)"
      ],
      "execution_count": 98,
      "outputs": []
    },
    {
      "cell_type": "code",
      "metadata": {
        "colab": {
          "base_uri": "https://localhost:8080/",
          "height": 332
        },
        "id": "gVjHWpzJK1_j",
        "outputId": "598b84c0-844e-45f1-c156-56720c246a1b"
      },
      "source": [
        "results_df"
      ],
      "execution_count": 99,
      "outputs": [
        {
          "output_type": "execute_result",
          "data": {
            "text/html": [
              "<div>\n",
              "<style scoped>\n",
              "    .dataframe tbody tr th:only-of-type {\n",
              "        vertical-align: middle;\n",
              "    }\n",
              "\n",
              "    .dataframe tbody tr th {\n",
              "        vertical-align: top;\n",
              "    }\n",
              "\n",
              "    .dataframe thead th {\n",
              "        text-align: right;\n",
              "    }\n",
              "</style>\n",
              "<table border=\"1\" class=\"dataframe\">\n",
              "  <thead>\n",
              "    <tr style=\"text-align: right;\">\n",
              "      <th></th>\n",
              "      <th>MAE</th>\n",
              "      <th>MSE</th>\n",
              "      <th>RMSE</th>\n",
              "      <th>R2 Square</th>\n",
              "      <th>Cross Validation</th>\n",
              "    </tr>\n",
              "    <tr>\n",
              "      <th>Model</th>\n",
              "      <th></th>\n",
              "      <th></th>\n",
              "      <th></th>\n",
              "      <th></th>\n",
              "      <th></th>\n",
              "    </tr>\n",
              "  </thead>\n",
              "  <tbody>\n",
              "    <tr>\n",
              "      <th>Linear Regression</th>\n",
              "      <td>80673.257669</td>\n",
              "      <td>1.005189e+10</td>\n",
              "      <td>100259.095842</td>\n",
              "      <td>0.918724</td>\n",
              "      <td>0.917559</td>\n",
              "    </tr>\n",
              "    <tr>\n",
              "      <th>Robust Regression</th>\n",
              "      <td>81727.457894</td>\n",
              "      <td>1.022712e+10</td>\n",
              "      <td>101129.225918</td>\n",
              "      <td>0.917307</td>\n",
              "      <td>0.910715</td>\n",
              "    </tr>\n",
              "    <tr>\n",
              "      <th>Ridge Regression</th>\n",
              "      <td>81178.393965</td>\n",
              "      <td>1.011867e+10</td>\n",
              "      <td>100591.607832</td>\n",
              "      <td>0.918184</td>\n",
              "      <td>0.917559</td>\n",
              "    </tr>\n",
              "    <tr>\n",
              "      <th>Lasso Regression</th>\n",
              "      <td>80673.274340</td>\n",
              "      <td>1.005190e+10</td>\n",
              "      <td>100259.144894</td>\n",
              "      <td>0.918723</td>\n",
              "      <td>0.917559</td>\n",
              "    </tr>\n",
              "    <tr>\n",
              "      <th>ElasticNet Regression</th>\n",
              "      <td>80772.704642</td>\n",
              "      <td>1.005390e+10</td>\n",
              "      <td>100269.157468</td>\n",
              "      <td>0.918707</td>\n",
              "      <td>0.879767</td>\n",
              "    </tr>\n",
              "    <tr>\n",
              "      <th>Polynomial Regression</th>\n",
              "      <td>80841.229463</td>\n",
              "      <td>1.010490e+10</td>\n",
              "      <td>100523.132864</td>\n",
              "      <td>0.918295</td>\n",
              "      <td>0.000000</td>\n",
              "    </tr>\n",
              "    <tr>\n",
              "      <th>RF Regression</th>\n",
              "      <td>93652.114092</td>\n",
              "      <td>1.402833e+10</td>\n",
              "      <td>118441.244457</td>\n",
              "      <td>0.886571</td>\n",
              "      <td>0.882358</td>\n",
              "    </tr>\n",
              "    <tr>\n",
              "      <th>SVM</th>\n",
              "      <td>86311.599978</td>\n",
              "      <td>1.145487e+10</td>\n",
              "      <td>107027.412387</td>\n",
              "      <td>0.907379</td>\n",
              "      <td>-0.000927</td>\n",
              "    </tr>\n",
              "  </tbody>\n",
              "</table>\n",
              "</div>"
            ],
            "text/plain": [
              "                                MAE           MSE  ...  R2 Square  Cross Validation\n",
              "Model                                              ...                             \n",
              "Linear Regression      80673.257669  1.005189e+10  ...   0.918724          0.917559\n",
              "Robust Regression      81727.457894  1.022712e+10  ...   0.917307          0.910715\n",
              "Ridge Regression       81178.393965  1.011867e+10  ...   0.918184          0.917559\n",
              "Lasso Regression       80673.274340  1.005190e+10  ...   0.918723          0.917559\n",
              "ElasticNet Regression  80772.704642  1.005390e+10  ...   0.918707          0.879767\n",
              "Polynomial Regression  80841.229463  1.010490e+10  ...   0.918295          0.000000\n",
              "RF Regression          93652.114092  1.402833e+10  ...   0.886571          0.882358\n",
              "SVM                    86311.599978  1.145487e+10  ...   0.907379         -0.000927\n",
              "\n",
              "[8 rows x 5 columns]"
            ]
          },
          "metadata": {
            "tags": []
          },
          "execution_count": 99
        }
      ]
    },
    {
      "cell_type": "code",
      "metadata": {
        "colab": {
          "base_uri": "https://localhost:8080/",
          "height": 617
        },
        "id": "9Q7iaou4K4e6",
        "outputId": "30e52eb8-e0bc-4f16-a900-75a674ba8480"
      },
      "source": [
        "results_df['RMSE'].plot(kind='bar',figsize=(12,8))"
      ],
      "execution_count": 103,
      "outputs": [
        {
          "output_type": "execute_result",
          "data": {
            "text/plain": [
              "<matplotlib.axes._subplots.AxesSubplot at 0x7f86daed8518>"
            ]
          },
          "metadata": {
            "tags": []
          },
          "execution_count": 103
        },
        {
          "output_type": "display_data",
          "data": {
            "image/png": "[encoded data removed]",
            "text/plain": [
              "<Figure size 864x576 with 1 Axes>"
            ]
          },
          "metadata": {
            "tags": [],
            "needs_background": "light"
          }
        }
      ]
    },
    {
      "cell_type": "code",
      "metadata": {
        "colab": {
          "base_uri": "https://localhost:8080/",
          "height": 300
        },
        "id": "dtI2YUY0LGUY",
        "outputId": "8886e675-a5ed-4333-a653-cc6113ff9f21"
      },
      "source": [
        "results_df.describe()"
      ],
      "execution_count": 104,
      "outputs": [
        {
          "output_type": "execute_result",
          "data": {
            "text/html": [
              "<div>\n",
              "<style scoped>\n",
              "    .dataframe tbody tr th:only-of-type {\n",
              "        vertical-align: middle;\n",
              "    }\n",
              "\n",
              "    .dataframe tbody tr th {\n",
              "        vertical-align: top;\n",
              "    }\n",
              "\n",
              "    .dataframe thead th {\n",
              "        text-align: right;\n",
              "    }\n",
              "</style>\n",
              "<table border=\"1\" class=\"dataframe\">\n",
              "  <thead>\n",
              "    <tr style=\"text-align: right;\">\n",
              "      <th></th>\n",
              "      <th>MAE</th>\n",
              "      <th>MSE</th>\n",
              "      <th>RMSE</th>\n",
              "      <th>R2 Square</th>\n",
              "      <th>Cross Validation</th>\n",
              "    </tr>\n",
              "  </thead>\n",
              "  <tbody>\n",
              "    <tr>\n",
              "      <th>count</th>\n",
              "      <td>8.000000</td>\n",
              "      <td>8.000000e+00</td>\n",
              "      <td>8.000000</td>\n",
              "      <td>8.000000</td>\n",
              "      <td>8.000000</td>\n",
              "    </tr>\n",
              "    <tr>\n",
              "      <th>mean</th>\n",
              "      <td>83228.754005</td>\n",
              "      <td>1.076145e+10</td>\n",
              "      <td>103562.502708</td>\n",
              "      <td>0.912986</td>\n",
              "      <td>0.678074</td>\n",
              "    </tr>\n",
              "    <tr>\n",
              "      <th>std</th>\n",
              "      <td>4619.859782</td>\n",
              "      <td>1.403598e+09</td>\n",
              "      <td>6436.926608</td>\n",
              "      <td>0.011349</td>\n",
              "      <td>0.419084</td>\n",
              "    </tr>\n",
              "    <tr>\n",
              "      <th>min</th>\n",
              "      <td>80673.257669</td>\n",
              "      <td>1.005189e+10</td>\n",
              "      <td>100259.095842</td>\n",
              "      <td>0.886571</td>\n",
              "      <td>-0.000927</td>\n",
              "    </tr>\n",
              "    <tr>\n",
              "      <th>25%</th>\n",
              "      <td>80747.847067</td>\n",
              "      <td>1.005340e+10</td>\n",
              "      <td>100266.654324</td>\n",
              "      <td>0.914825</td>\n",
              "      <td>0.659826</td>\n",
              "    </tr>\n",
              "    <tr>\n",
              "      <th>50%</th>\n",
              "      <td>81009.811714</td>\n",
              "      <td>1.011179e+10</td>\n",
              "      <td>100557.370348</td>\n",
              "      <td>0.918239</td>\n",
              "      <td>0.896536</td>\n",
              "    </tr>\n",
              "    <tr>\n",
              "      <th>75%</th>\n",
              "      <td>82873.493415</td>\n",
              "      <td>1.053406e+10</td>\n",
              "      <td>102603.772535</td>\n",
              "      <td>0.918711</td>\n",
              "      <td>0.917559</td>\n",
              "    </tr>\n",
              "    <tr>\n",
              "      <th>max</th>\n",
              "      <td>93652.114092</td>\n",
              "      <td>1.402833e+10</td>\n",
              "      <td>118441.244457</td>\n",
              "      <td>0.918724</td>\n",
              "      <td>0.917559</td>\n",
              "    </tr>\n",
              "  </tbody>\n",
              "</table>\n",
              "</div>"
            ],
            "text/plain": [
              "                MAE           MSE           RMSE  R2 Square  Cross Validation\n",
              "count      8.000000  8.000000e+00       8.000000   8.000000          8.000000\n",
              "mean   83228.754005  1.076145e+10  103562.502708   0.912986          0.678074\n",
              "std     4619.859782  1.403598e+09    6436.926608   0.011349          0.419084\n",
              "min    80673.257669  1.005189e+10  100259.095842   0.886571         -0.000927\n",
              "25%    80747.847067  1.005340e+10  100266.654324   0.914825          0.659826\n",
              "50%    81009.811714  1.011179e+10  100557.370348   0.918239          0.896536\n",
              "75%    82873.493415  1.053406e+10  102603.772535   0.918711          0.917559\n",
              "max    93652.114092  1.402833e+10  118441.244457   0.918724          0.917559"
            ]
          },
          "metadata": {
            "tags": []
          },
          "execution_count": 104
        }
      ]
    },
    {
      "cell_type": "code",
      "metadata": {
        "id": "41W5M9IWLnKO"
      },
      "source": [
        ""
      ],
      "execution_count": null,
      "outputs": []
    },
    {
      "cell_type": "markdown",
      "metadata": {
        "id": "E2_JoQHNL72M"
      },
      "source": [
        "As we can see From the Above Models Lasso Regression performed the best because it has Least Error Values."
      ]
    }
  ]
}